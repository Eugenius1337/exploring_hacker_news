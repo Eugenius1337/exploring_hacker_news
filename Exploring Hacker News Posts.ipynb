{
 "cells": [
  {
   "cell_type": "markdown",
   "metadata": {},
   "source": [
    "# Exploring Hacker News Posts\n",
    "In this project, we are analyzing `20,000` rows of Hacker News posts. \n",
    "\n",
    "We want to know whether 'Ask HN' posts or 'Show HN' posts get more comments on Hacker News. \n",
    "\n",
    "We are also analyzing whether posts created at a certain time get more comments on average than others. "
   ]
  },
  {
   "cell_type": "markdown",
   "metadata": {},
   "source": [
    "# Opening Our Data Set\n",
    "We must open our csv file to access the data.\n",
    "\n",
    "1. Import `reader` from `csv` by using `from csv import reader`.\n",
    "2. Use `open('HN_posts.csv')` to open the file and save it to the variable `opened_csv`.\n",
    "3. Use `reader(opened_csv)` to read the file and save it to the variable `read_csv`.\n",
    "4. Use `list(read_csv)` to create a list of the data and save it to the variable `hn`.\n",
    "\n",
    "We can combine steps 2-4 into one line of code instead of three as shown below:"
   ]
  },
  {
   "cell_type": "code",
   "execution_count": 1,
   "metadata": {},
   "outputs": [
    {
     "name": "stdout",
     "output_type": "stream",
     "text": [
      "['id', 'title', 'url', 'num_points', 'num_comments', 'author', 'created_at']\n",
      "\n",
      "\n",
      "['12579008', 'You have two days to comment if you want stem cells to be classified as your own', 'http://www.regulations.gov/document?D=FDA-2015-D-3719-0018', '1', '0', 'altstar', '9/26/2016 3:26']\n",
      "\n",
      "\n",
      "['12579005', 'SQLAR  the SQLite Archiver', 'https://www.sqlite.org/sqlar/doc/trunk/README.md', '1', '0', 'blacksqr', '9/26/2016 3:24']\n",
      "\n",
      "\n",
      "['12578997', 'What if we just printed a flatscreen television on the side of our boxes?', 'https://medium.com/vanmoof/our-secrets-out-f21c1f03fdc8#.ietxmez43', '1', '0', 'pavel_lishin', '9/26/2016 3:19']\n",
      "\n",
      "\n",
      "['12578989', 'algorithmic music', 'http://cacm.acm.org/magazines/2011/7/109891-algorithmic-composition/fulltext', '1', '0', 'poindontcare', '9/26/2016 3:16']\n",
      "\n",
      "\n"
     ]
    }
   ],
   "source": [
    "from csv import reader\n",
    "\n",
    "hn = list(reader(open('HN_posts.csv')))\n",
    "\n",
    "# We print the first few rows of the data to analyze the columns\n",
    "for row in hn[:5]:\n",
    "    print(row)\n",
    "    print('\\n')"
   ]
  },
  {
   "cell_type": "markdown",
   "metadata": {},
   "source": [
    "# Removing the Header from Data Set\n",
    "To analyze our data, we must first remove the `header` row containing the column information.\n",
    "\n",
    "We then display the first few rows of the new data set to confirm that the `header` row was removed."
   ]
  },
  {
   "cell_type": "code",
   "execution_count": 2,
   "metadata": {},
   "outputs": [
    {
     "name": "stdout",
     "output_type": "stream",
     "text": [
      "['id', 'title', 'url', 'num_points', 'num_comments', 'author', 'created_at']\n",
      "\n",
      "\n",
      "END HEADER\n",
      "\n",
      "\n",
      "['12579008', 'You have two days to comment if you want stem cells to be classified as your own', 'http://www.regulations.gov/document?D=FDA-2015-D-3719-0018', '1', '0', 'altstar', '9/26/2016 3:26']\n",
      "\n",
      "\n",
      "['12579005', 'SQLAR  the SQLite Archiver', 'https://www.sqlite.org/sqlar/doc/trunk/README.md', '1', '0', 'blacksqr', '9/26/2016 3:24']\n",
      "\n",
      "\n",
      "['12578997', 'What if we just printed a flatscreen television on the side of our boxes?', 'https://medium.com/vanmoof/our-secrets-out-f21c1f03fdc8#.ietxmez43', '1', '0', 'pavel_lishin', '9/26/2016 3:19']\n",
      "\n",
      "\n"
     ]
    }
   ],
   "source": [
    "headers = hn[0]\n",
    "\n",
    "hn = hn[1:]\n",
    "\n",
    "print(headers)\n",
    "print('\\n')\n",
    "print('END HEADER')\n",
    "print('\\n')\n",
    "\n",
    "for row in hn[:3]:\n",
    "    print(row)\n",
    "    print('\\n')"
   ]
  },
  {
   "cell_type": "markdown",
   "metadata": {},
   "source": [
    "# Extracting 'Ask HN' and 'Show HN' Posts\n",
    "Now that we have removed the `header` row, we can filter the data set to display posts beginning with either `Ask` or `Show`.\n",
    "\n",
    "We will be using the `startswith` method to find these posts and sort them into separate lists.\n",
    "\n",
    "We first loop through our data set:\n",
    "\n",
    "1. We save the title at index 1 to the variable `title`\n",
    "2. We then set `title` to lowercase using `title.lower()`\n",
    "3. We then check, if `title` starts with either `ask hn`, `show hn`, or `neither`, and append them to their respective lists.\n",
    "4. We then print the length of each list."
   ]
  },
  {
   "cell_type": "code",
   "execution_count": 3,
   "metadata": {},
   "outputs": [
    {
     "name": "stdout",
     "output_type": "stream",
     "text": [
      "Total Ask HN Posts:  9139\n",
      "Total Show HN Posts:  10158\n",
      "Total Other Posts:  273822\n"
     ]
    }
   ],
   "source": [
    "# We create three lists: ask_posts, show_posts, other_posts\n",
    "ask_posts = []\n",
    "show_posts = []\n",
    "other_posts = []\n",
    "\n",
    "# We loop through the data set to filter our posts\n",
    "for row in hn:\n",
    "    title = row[1]\n",
    "    title = title.lower()\n",
    "    \n",
    "    # If title starts with 'ask hn', append to ask_posts\n",
    "    if title.startswith('ask hn'):\n",
    "        ask_posts.append(row)\n",
    "    # elif title starts with 'show hn', append to show_posts\n",
    "    elif title.startswith('show hn'):\n",
    "        show_posts.append(row)\n",
    "    # else append title to other_posts\n",
    "    else:\n",
    "        other_posts.append(row)\n",
    "        \n",
    "print('Total Ask HN Posts: ', len(ask_posts))\n",
    "print('Total Show HN Posts: ', len(show_posts))\n",
    "print('Total Other Posts: ', len(other_posts))"
   ]
  },
  {
   "cell_type": "markdown",
   "metadata": {},
   "source": [
    "# Calculating Average Comments for 'Ask HN' and 'Show HN' Posts\n",
    "Now that we have our posts sorted by `Ask HN` and `Show HN`, we can calculate the average number of comments for each type of post."
   ]
  },
  {
   "cell_type": "code",
   "execution_count": 4,
   "metadata": {},
   "outputs": [
    {
     "name": "stdout",
     "output_type": "stream",
     "text": [
      "Average Number of Comments for ask_posts:  10.39\n",
      "Average Number of Comments for show_posts:  4.89\n"
     ]
    }
   ],
   "source": [
    "# Total number of comments on either posts\n",
    "total_ask_comments = 0\n",
    "total_show_comments = 0\n",
    "\n",
    "# Loop for ask_posts\n",
    "for comments in ask_posts:\n",
    "    num_comments = int(comments[4])\n",
    "    total_ask_comments += num_comments\n",
    "    \n",
    "# Loop for show_posts\n",
    "for comments in show_posts:\n",
    "    num_comments = int(comments[4])\n",
    "    total_show_comments += num_comments\n",
    "    \n",
    "# Calculate average comments for ask_posts\n",
    "avg_ask_comments = total_ask_comments / len(ask_posts)\n",
    "\n",
    "# Calculate average comments for show_posts\n",
    "avg_show_comments = total_show_comments / len(show_posts)\n",
    "\n",
    "# Print both averages\n",
    "print('Average Number of Comments for ask_posts: ', round(avg_ask_comments, 2))\n",
    "print('Average Number of Comments for show_posts: ', round(avg_show_comments, 2))"
   ]
  },
  {
   "cell_type": "markdown",
   "metadata": {},
   "source": [
    "The average number of comments for `ask_posts` is `10.39`.\n",
    "\n",
    "The average number of comments for `show_posts` is `4.89`.\n",
    "\n",
    "It can be inferred that posts starting with `Ask HN` have a **higher average number of comments** than posts starting with `Show HN`."
   ]
  },
  {
   "cell_type": "markdown",
   "metadata": {},
   "source": [
    "# Calculating Amount of 'Ask HN' Posts and Comments Created Per Hour\n",
    "Now that we have determined which type of post receives more comments on average, we want to know if posting at a specific time has an effect on the number of comments on the post. We will now only be working with the `Ask HN` posts since they are more likely to receive more comments.\n",
    "\n",
    "To determine these specific times, we will follow two steps:\n",
    "Calculate the amount of ask posts created in each hour of the day, along with the number of comments received.\n",
    "\n",
    "1. First, we will calculate the number of `Ask HN` posts created in each hour of the day, as well as the number of comments they received.\n",
    "2. Then, we will calculate the average number of comments these posts receive per hour.\n",
    "\n",
    "We will be using the `datetime` module, as well as the `strptime()` and `strftime()` methods for our analysis."
   ]
  },
  {
   "cell_type": "code",
   "execution_count": 5,
   "metadata": {},
   "outputs": [
    {
     "data": {
      "text/plain": [
       "{'02': 2996,\n",
       " '01': 2089,\n",
       " '22': 3372,\n",
       " '21': 4500,\n",
       " '19': 3954,\n",
       " '17': 5547,\n",
       " '15': 18525,\n",
       " '14': 4972,\n",
       " '13': 7245,\n",
       " '11': 2797,\n",
       " '10': 3013,\n",
       " '09': 1477,\n",
       " '07': 1585,\n",
       " '03': 2154,\n",
       " '23': 2297,\n",
       " '20': 4462,\n",
       " '16': 4466,\n",
       " '08': 2362,\n",
       " '00': 2277,\n",
       " '18': 4877,\n",
       " '12': 4234,\n",
       " '04': 2360,\n",
       " '06': 1587,\n",
       " '05': 1838}"
      ]
     },
     "execution_count": 5,
     "metadata": {},
     "output_type": "execute_result"
    }
   ],
   "source": [
    "import datetime as dt\n",
    "\n",
    "result_list = []\n",
    "\n",
    "# We append the `created_at` and `num_comments` columns to our `result_list`\n",
    "for post in ask_posts:\n",
    "    result_list.append([post[6], int(post[4])])\n",
    "    \n",
    "# Holds number of ask posts created at each hour of the day\n",
    "posts_per_hour = {}\n",
    "\n",
    "# Holds the number of comments the posts received by hour\n",
    "comments_per_hour = {}\n",
    "date_format = '%m/%d/%Y %H:%M'\n",
    "\n",
    "for row in result_list:\n",
    "    date = row[0]\n",
    "    num_comments = row[1]\n",
    "    # Here we format the `created_at` time and grab the `hour`\n",
    "    hour = dt.datetime.strptime(date, date_format).strftime('%H')\n",
    "    \n",
    "    # We make a simple frequency table to count the hours and comments\n",
    "    if hour not in posts_per_hour:\n",
    "        posts_per_hour[hour] = 1\n",
    "        comments_per_hour[hour] = num_comments\n",
    "    else:\n",
    "        posts_per_hour[hour] += 1\n",
    "        comments_per_hour[hour] += num_comments\n",
    "\n",
    "comments_per_hour"
   ]
  },
  {
   "cell_type": "markdown",
   "metadata": {},
   "source": [
    "# Calculating Average Number of 'Ask HN' Posts Per Hour\n",
    "We now have two dictionaries `posts_per_hour` and `comments_per_hour`. \n",
    "\n",
    "`posts_per_hour` contains the number of `Ask HN` posts created during each hour of the day.\n",
    "\n",
    "`comments_per_hour` contains the number of comments the posts received by hour.\n",
    "\n",
    "We will now use these two dictionaries to calculate the average number of comments per post during each hour of the day."
   ]
  },
  {
   "cell_type": "code",
   "execution_count": 6,
   "metadata": {},
   "outputs": [
    {
     "data": {
      "text/plain": [
       "[['02', 11.137546468401487],\n",
       " ['01', 7.407801418439717],\n",
       " ['22', 8.804177545691905],\n",
       " ['21', 8.687258687258687],\n",
       " ['19', 7.163043478260869],\n",
       " ['17', 9.449744463373083],\n",
       " ['15', 28.676470588235293],\n",
       " ['14', 9.692007797270955],\n",
       " ['13', 16.31756756756757],\n",
       " ['11', 8.96474358974359],\n",
       " ['10', 10.684397163120567],\n",
       " ['09', 6.653153153153153],\n",
       " ['07', 7.013274336283186],\n",
       " ['03', 7.948339483394834],\n",
       " ['23', 6.696793002915452],\n",
       " ['20', 8.749019607843136],\n",
       " ['16', 7.713298791018998],\n",
       " ['08', 9.190661478599221],\n",
       " ['00', 7.5647840531561465],\n",
       " ['18', 7.94299674267101],\n",
       " ['12', 12.380116959064328],\n",
       " ['04', 9.7119341563786],\n",
       " ['06', 6.782051282051282],\n",
       " ['05', 8.794258373205741]]"
      ]
     },
     "execution_count": 6,
     "metadata": {},
     "output_type": "execute_result"
    }
   ],
   "source": [
    "# Average comments for posts created per hour of the day\n",
    "avg_per_hour = []\n",
    "\n",
    "for hour in comments_per_hour:\n",
    "    avg_per_hour.append([hour, comments_per_hour[hour] / posts_per_hour[hour]])\n",
    "    \n",
    "avg_per_hour"
   ]
  },
  {
   "cell_type": "markdown",
   "metadata": {},
   "source": [
    "# Sorting and Printing Values from a List of Lists\n",
    "Now that we have the average number of comments for posts created during each hour of the day, we will sort the `avg_per_hour` list for easier reading."
   ]
  },
  {
   "cell_type": "code",
   "execution_count": 7,
   "metadata": {},
   "outputs": [
    {
     "name": "stdout",
     "output_type": "stream",
     "text": [
      "[[11.137546468401487, '02'], [7.407801418439717, '01'], [8.804177545691905, '22'], [8.687258687258687, '21'], [7.163043478260869, '19'], [9.449744463373083, '17'], [28.676470588235293, '15'], [9.692007797270955, '14'], [16.31756756756757, '13'], [8.96474358974359, '11'], [10.684397163120567, '10'], [6.653153153153153, '09'], [7.013274336283186, '07'], [7.948339483394834, '03'], [6.696793002915452, '23'], [8.749019607843136, '20'], [7.713298791018998, '16'], [9.190661478599221, '08'], [7.5647840531561465, '00'], [7.94299674267101, '18'], [12.380116959064328, '12'], [9.7119341563786, '04'], [6.782051282051282, '06'], [8.794258373205741, '05']]\n"
     ]
    },
    {
     "data": {
      "text/plain": [
       "[[28.676470588235293, '15'],\n",
       " [16.31756756756757, '13'],\n",
       " [12.380116959064328, '12'],\n",
       " [11.137546468401487, '02'],\n",
       " [10.684397163120567, '10'],\n",
       " [9.7119341563786, '04'],\n",
       " [9.692007797270955, '14'],\n",
       " [9.449744463373083, '17'],\n",
       " [9.190661478599221, '08'],\n",
       " [8.96474358974359, '11'],\n",
       " [8.804177545691905, '22'],\n",
       " [8.794258373205741, '05'],\n",
       " [8.749019607843136, '20'],\n",
       " [8.687258687258687, '21'],\n",
       " [7.948339483394834, '03'],\n",
       " [7.94299674267101, '18'],\n",
       " [7.713298791018998, '16'],\n",
       " [7.5647840531561465, '00'],\n",
       " [7.407801418439717, '01'],\n",
       " [7.163043478260869, '19'],\n",
       " [7.013274336283186, '07'],\n",
       " [6.782051282051282, '06'],\n",
       " [6.696793002915452, '23'],\n",
       " [6.653153153153153, '09']]"
      ]
     },
     "execution_count": 7,
     "metadata": {},
     "output_type": "execute_result"
    }
   ],
   "source": [
    "swap_avg_per_hour = []\n",
    "\n",
    "for row in avg_per_hour:\n",
    "    swap_avg_per_hour.append([row[1], row[0]])\n",
    "    \n",
    "print(swap_avg_per_hour)\n",
    "\n",
    "sorted_swap = sorted(swap_avg_per_hour, reverse = True)\n",
    "\n",
    "sorted_swap"
   ]
  },
  {
   "cell_type": "code",
   "execution_count": 8,
   "metadata": {},
   "outputs": [
    {
     "name": "stdout",
     "output_type": "stream",
     "text": [
      "Top 5 Hours for Ask Post Comments\n",
      "\n",
      "\n",
      "15:00: 28.68 average comments per post.\n",
      "13:00: 16.32 average comments per post.\n",
      "12:00: 12.38 average comments per post.\n",
      "02:00: 11.14 average comments per post.\n",
      "10:00: 10.68 average comments per post.\n"
     ]
    }
   ],
   "source": [
    "print('Top 5 Hours for Ask Post Comments')\n",
    "print('\\n')\n",
    "\n",
    "for avg, hour in sorted_swap[:5]:\n",
    "    print('{}: {:.2f} average comments per post.'.format(dt.datetime.strptime(hour, \"%H\").strftime(\"%H:%M\"),avg))"
   ]
  },
  {
   "cell_type": "markdown",
   "metadata": {},
   "source": [
    "From our analysis above, `15:00` sees the highest average `28.68` average comments per post. \n",
    "\n",
    "According to the [documentation](https://www.kaggle.com/hacker-news/hacker-news-posts), the `created_at` column is in Eastern Standard time. Therefore, `15:00` becomes `3:00pm`.\n",
    "\n",
    "Creating an `Ask HN` post at around `3:00pm` seems to attract the greatest number of comments on average."
   ]
  },
  {
   "cell_type": "markdown",
   "metadata": {},
   "source": [
    "# Conclusion\n",
    "In this project, we analyzed post data from the `Hacker News data set`. We sorted posts by those that start with `Ask HN` and `Show HN` to determine which type of post attracts more comments. `Ask HN` posts were determined to have a higher number of comments per post.\n",
    "\n",
    "We also analyzed our findings to determine what time a post might receive a higher average number of comments. We determined that `15:00`, or `3:00pm EST` saw the highest average number of comments per post. "
   ]
  }
 ],
 "metadata": {
  "kernelspec": {
   "display_name": "Python 3",
   "language": "python",
   "name": "python3"
  },
  "language_info": {
   "codemirror_mode": {
    "name": "ipython",
    "version": 3
   },
   "file_extension": ".py",
   "mimetype": "text/x-python",
   "name": "python",
   "nbconvert_exporter": "python",
   "pygments_lexer": "ipython3",
   "version": "3.7.4"
  }
 },
 "nbformat": 4,
 "nbformat_minor": 2
}
