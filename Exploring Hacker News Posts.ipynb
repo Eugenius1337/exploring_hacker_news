{
 "cells": [
  {
   "cell_type": "markdown",
   "metadata": {},
   "source": [
    "# Exploring Hacker News Posts\n",
    "In this project, we are analyzing `20,000` rows of Hacker News posts. \n",
    "\n",
    "We want to know whether 'Ask HN' posts or 'Show HN' posts get more comments on Hacker News. \n",
    "\n",
    "We are also analyzing whether posts created at a certain time get more comments on average than others. "
   ]
  },
  {
   "cell_type": "markdown",
   "metadata": {},
   "source": [
    "# Opening Our Data Set\n",
    "We must open our csv file to access the data.\n",
    "\n",
    "1. Import `reader` from `csv` by using `from csv import reader`.\n",
    "2. Use `open('HN_posts.csv')` to open the file and save it to the variable `opened_csv`.\n",
    "3. Use `reader(opened_csv)` to read the file and save it to the variable `read_csv`.\n",
    "4. Use `list(read_csv)` to create a list of the data and save it to the variable `hn`.\n",
    "\n",
    "We can combine steps 2-4 into one line of code instead of three as shown below:"
   ]
  },
  {
   "cell_type": "code",
   "execution_count": 1,
   "metadata": {},
   "outputs": [
    {
     "name": "stdout",
     "output_type": "stream",
     "text": [
      "['id', 'title', 'url', 'num_points', 'num_comments', 'author', 'created_at']\n",
      "\n",
      "\n",
      "['12579008', 'You have two days to comment if you want stem cells to be classified as your own', 'http://www.regulations.gov/document?D=FDA-2015-D-3719-0018', '1', '0', 'altstar', '9/26/2016 3:26']\n",
      "\n",
      "\n",
      "['12579005', 'SQLAR  the SQLite Archiver', 'https://www.sqlite.org/sqlar/doc/trunk/README.md', '1', '0', 'blacksqr', '9/26/2016 3:24']\n",
      "\n",
      "\n",
      "['12578997', 'What if we just printed a flatscreen television on the side of our boxes?', 'https://medium.com/vanmoof/our-secrets-out-f21c1f03fdc8#.ietxmez43', '1', '0', 'pavel_lishin', '9/26/2016 3:19']\n",
      "\n",
      "\n",
      "['12578989', 'algorithmic music', 'http://cacm.acm.org/magazines/2011/7/109891-algorithmic-composition/fulltext', '1', '0', 'poindontcare', '9/26/2016 3:16']\n",
      "\n",
      "\n"
     ]
    }
   ],
   "source": [
    "from csv import reader\n",
    "\n",
    "hn = list(reader(open('HN_posts.csv')))\n",
    "\n",
    "# We print the first few rows of the data to analyze the columns\n",
    "for row in hn[:5]:\n",
    "    print(row)\n",
    "    print('\\n')"
   ]
  },
  {
   "cell_type": "markdown",
   "metadata": {},
   "source": [
    "# Removing the Header from Data Set\n",
    "To analyze our data, we must first remove the `header` row containing the column information.\n",
    "\n",
    "We then display the first few rows of the new data set to confirm that the `header` row was removed."
   ]
  },
  {
   "cell_type": "code",
   "execution_count": 2,
   "metadata": {},
   "outputs": [
    {
     "name": "stdout",
     "output_type": "stream",
     "text": [
      "['id', 'title', 'url', 'num_points', 'num_comments', 'author', 'created_at']\n",
      "\n",
      "\n",
      "END HEADER\n",
      "\n",
      "\n",
      "['12579008', 'You have two days to comment if you want stem cells to be classified as your own', 'http://www.regulations.gov/document?D=FDA-2015-D-3719-0018', '1', '0', 'altstar', '9/26/2016 3:26']\n",
      "\n",
      "\n",
      "['12579005', 'SQLAR  the SQLite Archiver', 'https://www.sqlite.org/sqlar/doc/trunk/README.md', '1', '0', 'blacksqr', '9/26/2016 3:24']\n",
      "\n",
      "\n",
      "['12578997', 'What if we just printed a flatscreen television on the side of our boxes?', 'https://medium.com/vanmoof/our-secrets-out-f21c1f03fdc8#.ietxmez43', '1', '0', 'pavel_lishin', '9/26/2016 3:19']\n",
      "\n",
      "\n"
     ]
    }
   ],
   "source": [
    "headers = hn[0]\n",
    "\n",
    "hn = hn[1:]\n",
    "\n",
    "print(headers)\n",
    "print('\\n')\n",
    "print('END HEADER')\n",
    "print('\\n')\n",
    "\n",
    "for row in hn[:3]:\n",
    "    print(row)\n",
    "    print('\\n')"
   ]
  },
  {
   "cell_type": "markdown",
   "metadata": {},
   "source": [
    "# Extracting 'Ask HN' and 'Show HN' Posts\n",
    "Now that we have removed the `header` row, we can filter the data set to display posts beginning with either `Ask` or `Show`.\n",
    "\n",
    "We will be using the `startswith` method to find these posts and sort them into separate lists.\n",
    "\n",
    "We first loop through our data set:\n",
    "\n",
    "1. We save the title at index 1 to the variable `title`\n",
    "2. We then set `title` to lowercase using `title.lower()`\n",
    "3. We then check, if `title` starts with either `ask hn`, `show hn`, or `neither`, and append them to their respective lists.\n",
    "4. We then print the length of each list."
   ]
  },
  {
   "cell_type": "code",
   "execution_count": 3,
   "metadata": {},
   "outputs": [
    {
     "name": "stdout",
     "output_type": "stream",
     "text": [
      "Total Ask HN Posts:  9139\n",
      "Total Show HN Posts:  10158\n",
      "Total Other Posts:  273822\n"
     ]
    }
   ],
   "source": [
    "# We create three lists: ask_posts, show_posts, other_posts\n",
    "ask_posts = []\n",
    "show_posts = []\n",
    "other_posts = []\n",
    "\n",
    "# We loop through the data set to filter our posts\n",
    "for row in hn:\n",
    "    title = row[1]\n",
    "    title = title.lower()\n",
    "    \n",
    "    # If title starts with 'ask hn', append to ask_posts\n",
    "    if title.startswith('ask hn'):\n",
    "        ask_posts.append(row)\n",
    "    # elif title starts with 'show hn', append to show_posts\n",
    "    elif title.startswith('show hn'):\n",
    "        show_posts.append(row)\n",
    "    # else append title to other_posts\n",
    "    else:\n",
    "        other_posts.append(row)\n",
    "        \n",
    "print('Total Ask HN Posts: ', len(ask_posts))\n",
    "print('Total Show HN Posts: ', len(show_posts))\n",
    "print('Total Other Posts: ', len(other_posts))"
   ]
  },
  {
   "cell_type": "markdown",
   "metadata": {},
   "source": [
    "# Calculating Average Comments for 'Ask HN' and 'Show HN' Posts\n",
    "Now that we have our posts sorted by `Ask HN` and `Show HN`, we can calculate the average number of comments for each type of post."
   ]
  },
  {
   "cell_type": "code",
   "execution_count": 4,
   "metadata": {},
   "outputs": [
    {
     "name": "stdout",
     "output_type": "stream",
     "text": [
      "Average Number of Comments for ask_posts:  10.39\n",
      "Average Number of Comments for show_posts:  4.89\n"
     ]
    }
   ],
   "source": [
    "# Total number of comments on either posts\n",
    "total_ask_comments = 0\n",
    "total_show_comments = 0\n",
    "\n",
    "# Loop for ask_posts\n",
    "for comments in ask_posts:\n",
    "    num_comments = int(comments[4])\n",
    "    total_ask_comments += num_comments\n",
    "    \n",
    "# Loop for show_posts\n",
    "for comments in show_posts:\n",
    "    num_comments = int(comments[4])\n",
    "    total_show_comments += num_comments\n",
    "    \n",
    "# Calculate average comments for ask_posts\n",
    "avg_ask_comments = total_ask_comments / len(ask_posts)\n",
    "\n",
    "# Calculate average comments for show_posts\n",
    "avg_show_comments = total_show_comments / len(show_posts)\n",
    "\n",
    "# Print both averages\n",
    "print('Average Number of Comments for ask_posts: ', round(avg_ask_comments, 2))\n",
    "print('Average Number of Comments for show_posts: ', round(avg_show_comments, 2))"
   ]
  },
  {
   "cell_type": "markdown",
   "metadata": {},
   "source": [
    "The avereage number of comments for `ask_posts` is `10.39`.\n",
    "\n",
    "The average number of comments for `show_posts` is `4.89`.\n",
    "\n",
    "It can be inferred that posts starting with `Ask HN` have a higher average number of comments than posts starting with `Show HN`."
   ]
  }
 ],
 "metadata": {
  "kernelspec": {
   "display_name": "Python 3",
   "language": "python",
   "name": "python3"
  },
  "language_info": {
   "codemirror_mode": {
    "name": "ipython",
    "version": 3
   },
   "file_extension": ".py",
   "mimetype": "text/x-python",
   "name": "python",
   "nbconvert_exporter": "python",
   "pygments_lexer": "ipython3",
   "version": "3.7.4"
  }
 },
 "nbformat": 4,
 "nbformat_minor": 2
}
